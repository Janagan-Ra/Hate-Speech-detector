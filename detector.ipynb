{
 "cells": [
  {
   "cell_type": "code",
   "execution_count": 5,
   "metadata": {
    "_cell_guid": "b1076dfc-b9ad-4769-8c92-a6c4dae69d19",
    "_uuid": "8f2839f25d086af736a60e9eeb907d3b93b6e0e5",
    "execution": {
     "iopub.execute_input": "2023-05-11T23:58:22.165954Z",
     "iopub.status.busy": "2023-05-11T23:58:22.165562Z",
     "iopub.status.idle": "2023-05-11T23:58:22.183407Z",
     "shell.execute_reply": "2023-05-11T23:58:22.182570Z",
     "shell.execute_reply.started": "2023-05-11T23:58:22.165904Z"
    }
   },
   "outputs": [],
   "source": [
    "#Data set from Kaggle: https://www.kaggle.com/datasets/mrmorj/hate-speech-and-offensive-language-dataset\n",
    "import numpy as np\n",
    "import pandas as pd\n",
    "import nltk\n",
    "import re\n",
    "from sklearn. feature_extraction. text import CountVectorizer\n",
    "from sklearn. model_selection import train_test_split\n",
    "from sklearn. tree import DecisionTreeClassifier\n",
    "\n",
    "stopWord = set(nltk.corpus.stopwords.words('english'))\n",
    "stemmer = nltk.SnowballStemmer('english')\n",
    "\n"
   ]
  },
  {
   "cell_type": "markdown",
   "metadata": {},
   "source": [
    "# Intial preview of dataset."
   ]
  },
  {
   "cell_type": "code",
   "execution_count": 8,
   "metadata": {
    "execution": {
     "iopub.execute_input": "2023-05-12T00:04:13.199961Z",
     "iopub.status.busy": "2023-05-12T00:04:13.199579Z",
     "iopub.status.idle": "2023-05-12T00:04:13.336407Z",
     "shell.execute_reply": "2023-05-12T00:04:13.335533Z",
     "shell.execute_reply.started": "2023-05-12T00:04:13.199932Z"
    },
    "scrolled": true
   },
   "outputs": [
    {
     "name": "stdout",
     "output_type": "stream",
     "text": [
      "   Unnamed: 0  count  hate_speech  offensive_language  neither  class  \\\n",
      "0           0      3            0                   0        3      2   \n",
      "1           1      3            0                   3        0      1   \n",
      "2           2      3            0                   3        0      1   \n",
      "3           3      3            0                   2        1      1   \n",
      "4           4      6            0                   6        0      1   \n",
      "\n",
      "                                               tweet  \n",
      "0  !!! RT @mayasolovely: As a woman you shouldn't...  \n",
      "1  !!!!! RT @mleew17: boy dats cold...tyga dwn ba...  \n",
      "2  !!!!!!! RT @UrKindOfBrand Dawg!!!! RT @80sbaby...  \n",
      "3  !!!!!!!!! RT @C_G_Anderson: @viva_based she lo...  \n",
      "4  !!!!!!!!!!!!! RT @ShenikaRoberts: The shit you...  \n"
     ]
    }
   ],
   "source": [
    "hateSpeechSet = pd.read_csv(\"labeled_data.csv\")\n",
    "print(hateSpeechSet.head(5))"
   ]
  },
  {
   "cell_type": "code",
   "execution_count": 9,
   "metadata": {},
   "outputs": [
    {
     "name": "stdout",
     "output_type": "stream",
     "text": [
      "<class 'pandas.core.frame.DataFrame'>\n",
      "RangeIndex: 24783 entries, 0 to 24782\n",
      "Data columns (total 7 columns):\n",
      " #   Column              Non-Null Count  Dtype \n",
      "---  ------              --------------  ----- \n",
      " 0   Unnamed: 0          24783 non-null  int64 \n",
      " 1   count               24783 non-null  int64 \n",
      " 2   hate_speech         24783 non-null  int64 \n",
      " 3   offensive_language  24783 non-null  int64 \n",
      " 4   neither             24783 non-null  int64 \n",
      " 5   class               24783 non-null  int64 \n",
      " 6   tweet               24783 non-null  object\n",
      "dtypes: int64(6), object(1)\n",
      "memory usage: 1.3+ MB\n"
     ]
    }
   ],
   "source": [
    "hateSpeechSet.info()"
   ]
  },
  {
   "cell_type": "code",
   "execution_count": 10,
   "metadata": {},
   "outputs": [
    {
     "data": {
      "text/html": [
       "<div>\n",
       "<style scoped>\n",
       "    .dataframe tbody tr th:only-of-type {\n",
       "        vertical-align: middle;\n",
       "    }\n",
       "\n",
       "    .dataframe tbody tr th {\n",
       "        vertical-align: top;\n",
       "    }\n",
       "\n",
       "    .dataframe thead th {\n",
       "        text-align: right;\n",
       "    }\n",
       "</style>\n",
       "<table border=\"1\" class=\"dataframe\">\n",
       "  <thead>\n",
       "    <tr style=\"text-align: right;\">\n",
       "      <th></th>\n",
       "      <th>count</th>\n",
       "      <th>mean</th>\n",
       "      <th>std</th>\n",
       "      <th>min</th>\n",
       "      <th>25%</th>\n",
       "      <th>50%</th>\n",
       "      <th>75%</th>\n",
       "      <th>max</th>\n",
       "    </tr>\n",
       "  </thead>\n",
       "  <tbody>\n",
       "    <tr>\n",
       "      <th>Unnamed: 0</th>\n",
       "      <td>24783.0</td>\n",
       "      <td>12681.192027</td>\n",
       "      <td>7299.553863</td>\n",
       "      <td>0.0</td>\n",
       "      <td>6372.5</td>\n",
       "      <td>12703.0</td>\n",
       "      <td>18995.5</td>\n",
       "      <td>25296.0</td>\n",
       "    </tr>\n",
       "    <tr>\n",
       "      <th>count</th>\n",
       "      <td>24783.0</td>\n",
       "      <td>3.243473</td>\n",
       "      <td>0.883060</td>\n",
       "      <td>3.0</td>\n",
       "      <td>3.0</td>\n",
       "      <td>3.0</td>\n",
       "      <td>3.0</td>\n",
       "      <td>9.0</td>\n",
       "    </tr>\n",
       "    <tr>\n",
       "      <th>hate_speech</th>\n",
       "      <td>24783.0</td>\n",
       "      <td>0.280515</td>\n",
       "      <td>0.631851</td>\n",
       "      <td>0.0</td>\n",
       "      <td>0.0</td>\n",
       "      <td>0.0</td>\n",
       "      <td>0.0</td>\n",
       "      <td>7.0</td>\n",
       "    </tr>\n",
       "    <tr>\n",
       "      <th>offensive_language</th>\n",
       "      <td>24783.0</td>\n",
       "      <td>2.413711</td>\n",
       "      <td>1.399459</td>\n",
       "      <td>0.0</td>\n",
       "      <td>2.0</td>\n",
       "      <td>3.0</td>\n",
       "      <td>3.0</td>\n",
       "      <td>9.0</td>\n",
       "    </tr>\n",
       "    <tr>\n",
       "      <th>neither</th>\n",
       "      <td>24783.0</td>\n",
       "      <td>0.549247</td>\n",
       "      <td>1.113299</td>\n",
       "      <td>0.0</td>\n",
       "      <td>0.0</td>\n",
       "      <td>0.0</td>\n",
       "      <td>0.0</td>\n",
       "      <td>9.0</td>\n",
       "    </tr>\n",
       "    <tr>\n",
       "      <th>class</th>\n",
       "      <td>24783.0</td>\n",
       "      <td>1.110277</td>\n",
       "      <td>0.462089</td>\n",
       "      <td>0.0</td>\n",
       "      <td>1.0</td>\n",
       "      <td>1.0</td>\n",
       "      <td>1.0</td>\n",
       "      <td>2.0</td>\n",
       "    </tr>\n",
       "  </tbody>\n",
       "</table>\n",
       "</div>"
      ],
      "text/plain": [
       "                      count          mean          std  min     25%      50%  \\\n",
       "Unnamed: 0          24783.0  12681.192027  7299.553863  0.0  6372.5  12703.0   \n",
       "count               24783.0      3.243473     0.883060  3.0     3.0      3.0   \n",
       "hate_speech         24783.0      0.280515     0.631851  0.0     0.0      0.0   \n",
       "offensive_language  24783.0      2.413711     1.399459  0.0     2.0      3.0   \n",
       "neither             24783.0      0.549247     1.113299  0.0     0.0      0.0   \n",
       "class               24783.0      1.110277     0.462089  0.0     1.0      1.0   \n",
       "\n",
       "                        75%      max  \n",
       "Unnamed: 0          18995.5  25296.0  \n",
       "count                   3.0      9.0  \n",
       "hate_speech             0.0      7.0  \n",
       "offensive_language      3.0      9.0  \n",
       "neither                 0.0      9.0  \n",
       "class                   1.0      2.0  "
      ]
     },
     "execution_count": 10,
     "metadata": {},
     "output_type": "execute_result"
    }
   ],
   "source": [
    "hateSpeechSet.describe().T"
   ]
  },
  {
   "cell_type": "markdown",
   "metadata": {},
   "source": [
    "# Preprocessing and cleaning of Data"
   ]
  },
  {
   "cell_type": "code",
   "execution_count": null,
   "metadata": {},
   "outputs": [],
   "source": [
    "df = hateSpeechSet[[\"tweet\",\"class\"]]\n",
    "# class 0 -> Hate speech\n",
    "# class 1 -> Offensive speech\n",
    "# class 2 -> Neither\n",
    "print(df.head(5))"
   ]
  },
  {
   "cell_type": "code",
   "execution_count": null,
   "metadata": {},
   "outputs": [],
   "source": [
    "for i in range(len(df[\"tweet\"])):\n",
    "    df[\"tweet\"][i] = df[\"tweet\"][i].lower()\n",
    "    df[\"tweet\"][i] = re.sub('[.?]', '', df[\"tweet\"][i]) \n",
    "    df[\"tweet\"][i] = re.sub('https?://\\S+|www.\\S+', '', df[\"tweet\"][i])\n",
    "    df[\"tweet\"][i] = re.sub('<.?>+', '', df[\"tweet\"][i])\n",
    "    df[\"tweet\"][i] = re.sub('[%s]'%re.escape(string.punctuation), '', df[\"tweet\"][i])\n",
    "    df[\"tweet\"][i] = re.sub('\\n', '', df[\"tweet\"][i])\n",
    "    df[\"tweet\"][i] = re.sub('\\w\\d\\w', '', df[\"tweet\"][i])\n",
    "    df[\"tweet\"][i] = [word for word in df[\"tweet\"][i].split(' ') if word not in stopWord]\n",
    "    df[\"tweet\"][i] = \" \".join(df[\"tweet\"][i])\n",
    "    df[\"tweet\"][i] = [stemmer.stem(word) for word in df[\"tweet\"][i].split(' ')]\n",
    "    df[\"tweet\"][i] = \" \".join(df[\"tweet\"][i])  "
   ]
  },
  {
   "cell_type": "code",
   "execution_count": null,
   "metadata": {},
   "outputs": [],
   "source": []
  }
 ],
 "metadata": {
  "kernelspec": {
   "display_name": "Python 3 (ipykernel)",
   "language": "python",
   "name": "python3"
  },
  "language_info": {
   "codemirror_mode": {
    "name": "ipython",
    "version": 3
   },
   "file_extension": ".py",
   "mimetype": "text/x-python",
   "name": "python",
   "nbconvert_exporter": "python",
   "pygments_lexer": "ipython3",
   "version": "3.9.13"
  }
 },
 "nbformat": 4,
 "nbformat_minor": 4
}
